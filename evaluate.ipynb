{
 "cells": [
  {
   "cell_type": "code",
   "execution_count": 1,
   "metadata": {},
   "outputs": [],
   "source": [
    "import numpy as np\n",
    "import torch\n",
    "import cv2\n",
    "import torchvision\n",
    "import torchvision.utils as vutils\n",
    "from torchvision.transforms import Resize\n",
    "from skimage.metrics import peak_signal_noise_ratio\n",
    "from skimage.metrics import structural_similarity\n",
    "# From https://discuss.pytorch.org/t/is-there-anyway-to-do-gaussian-filtering-for-an-image-2d-3d-in-pytorch/12351/3\n",
    "import torch\n",
    "import math\n",
    "import torch.nn as nn\n",
    "\n",
    "def get_gaussian_kernel(kernel_size=3, sigma=2, channels=3):\n",
    "    # Create a x, y coordinate grid of shape (kernel_size, kernel_size, 2)\n",
    "    x_coord = torch.arange(kernel_size)\n",
    "    x_grid = x_coord.repeat(kernel_size).view(kernel_size, kernel_size)\n",
    "    y_grid = x_grid.t()\n",
    "    xy_grid = torch.stack([x_grid, y_grid], dim=-1).float()\n",
    "\n",
    "    mean = (kernel_size - 1)/2.\n",
    "    variance = sigma**2.\n",
    "\n",
    "    # Calculate the 2-dimensional gaussian kernel which is\n",
    "    # the product of two gaussian distributions for two different\n",
    "    # variables (in this case called x and y)\n",
    "    gaussian_kernel = (1./(2.*math.pi*variance)) *\\\n",
    "                      torch.exp(\n",
    "                          -torch.sum((xy_grid - mean)**2., dim=-1) /\\\n",
    "                          (2*variance)\n",
    "                      )\n",
    "\n",
    "    # Make sure sum of values in gaussian kernel equals 1.\n",
    "    gaussian_kernel = gaussian_kernel / torch.sum(gaussian_kernel)\n",
    "\n",
    "    # Reshape to 2d depthwise convolutional weight\n",
    "    gaussian_kernel = gaussian_kernel.view(1, 1, kernel_size, kernel_size)\n",
    "    gaussian_kernel = gaussian_kernel.repeat(channels, 1, 1, 1)\n",
    "\n",
    "    gaussian_filter = nn.Conv2d(in_channels=channels, out_channels=channels,kernel_size=kernel_size, groups=channels, bias=False, padding=kernel_size//2)\n",
    "\n",
    "    gaussian_filter.weight.data = gaussian_kernel\n",
    "    gaussian_filter.weight.requires_grad = False\n",
    "    \n",
    "    return gaussian_filter\n",
    "\n",
    "\n",
    "def calfeatures(path1, path2, size = 256, blur = False):\n",
    "    resizer = Resize(size)\n",
    "    img1 = torchvision.io.read_image(path1).float()\n",
    "    img2 = torchvision.io.read_image(path2).float()\n",
    "    img1 = resizer(img1)\n",
    "    img2 = resizer(img2)\n",
    "    l2 = torch.sqrt(((img1 - img2) ** 2).mean() * 3)\n",
    "    if blur:\n",
    "        blurlayer = get_gaussian_kernel()\n",
    "        img1 = blurlayer(img1.unsqueeze(0)).squeeze()\n",
    "        img2 = blurlayer(img2.unsqueeze(0)).squeeze()\n",
    "    gray1 = torchvision.transforms.functional.rgb_to_grayscale(img1)[0].numpy()\n",
    "    gray2 = torchvision.transforms.functional.rgb_to_grayscale(img2)[0].numpy()\n",
    "\n",
    "    ssim = structural_similarity(gray1, gray2, data_range=gray2.max() - gray2.min())\n",
    "    psnr = peak_signal_noise_ratio(img1.numpy(),img2.numpy(),data_range=255)\n",
    "    return l2, ssim, psnr"
   ]
  },
  {
   "cell_type": "code",
   "execution_count": 4,
   "metadata": {},
   "outputs": [
    {
     "name": "stdout",
     "output_type": "stream",
     "text": [
      "43.765785217285156 0.5435121729341599 21.1600602670642\n"
     ]
    }
   ],
   "source": [
    "head1 = \"ref_imgs/cat/flickr_cat_\"\n",
    "head2 = \"tmp/\"\n",
    "list1=[\"000056.jpg\", \"000108.jpg\", \"000136.jpg\", \"000183.jpg\"]\n",
    "list2=[\"00000.png\", \"00001.png\", \"00002.png\", \"00003.png\"]\n",
    "# calfeatures(\"ref_imgs/cat/flickr_cat_000136.jpg\", \"lowdiv/00002.png\")\n",
    "aa= np.zeros(4)\n",
    "bb = np.zeros(4)\n",
    "cc = np.zeros(4)\n",
    "for i in range(4):\n",
    "    a, b, c = calfeatures(head1 + list1[i], head2 + list2[i], blur =  True)\n",
    "    aa[i] = a\n",
    "    bb[i] = b\n",
    "    cc[i] = c\n",
    "print(aa.mean(), bb.mean(), cc.mean())"
   ]
  }
 ],
 "metadata": {
  "kernelspec": {
   "display_name": "Python 3.8.13 ('sde')",
   "language": "python",
   "name": "python3"
  },
  "language_info": {
   "codemirror_mode": {
    "name": "ipython",
    "version": 3
   },
   "file_extension": ".py",
   "mimetype": "text/x-python",
   "name": "python",
   "nbconvert_exporter": "python",
   "pygments_lexer": "ipython3",
   "version": "3.8.13"
  },
  "orig_nbformat": 4,
  "vscode": {
   "interpreter": {
    "hash": "18f6dd5e28ea51b7c193753a74cd2f37f776e591a014247ffd6312f5124d577c"
   }
  }
 },
 "nbformat": 4,
 "nbformat_minor": 2
}
