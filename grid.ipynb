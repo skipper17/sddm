{
 "cells": [
  {
   "cell_type": "code",
   "execution_count": 1,
   "metadata": {},
   "outputs": [],
   "source": []
  },
  {
   "cell_type": "code",
   "execution_count": 13,
   "metadata": {},
   "outputs": [
    {
     "name": "stdout",
     "output_type": "stream",
     "text": [
      "torch.Size([3, 16, 16, 1, 1])\n"
     ]
    },
    {
     "name": "stderr",
     "output_type": "stream",
     "text": [
      "/home/sunsk/anaconda3/lib/python3.6/site-packages/ipykernel_launcher.py:60: UserWarning: To copy construct from a tensor, it is recommended to use sourceTensor.clone().detach() or sourceTensor.clone().detach().requires_grad_(True), rather than torch.tensor(sourceTensor).\n"
     ]
    }
   ],
   "source": [
    "# generatize image grid:  image lowpass adain adain&lowpass blockadain blockadain&lowpass\n",
    "import torchvision\n",
    "import torch\n",
    "import torchvision.utils as vutils\n",
    "\n",
    "def calc_mean_std(feat, eps=1e-5):\n",
    "    # eps is a small value added to the variance to avoid divide-by-zero.\n",
    "    size = feat.size()\n",
    "    # assert (len(size) == 4)\n",
    "    other = size[:-2]\n",
    "    feat_var = feat.reshape(*other, -1).var(dim=-1) + eps\n",
    "    feat_std = feat_var.sqrt().reshape(*other, 1, 1)\n",
    "    feat_mean = feat.reshape(*other, -1).mean(dim=-1).reshape(*other, 1, 1)\n",
    "    return feat_mean, feat_std\n",
    "\n",
    "\n",
    "def adaIN(content_feat, style_feat):\n",
    "    assert (content_feat.size()[:-2] == style_feat.size()[:-2])\n",
    "    size = content_feat.size()\n",
    "    style_mean, style_std = calc_mean_std(style_feat)\n",
    "    content_mean, content_std = calc_mean_std(content_feat)\n",
    "\n",
    "    normalized_feat = (content_feat - content_mean) / content_std\n",
    "    return normalized_feat * style_std + style_mean\n",
    "\n",
    "\n",
    "def block_adaIN(content_feat, style_feat, block = 16):\n",
    "    assert (content_feat.size()[:-2] == style_feat.size()[:-2])\n",
    "    content_feat = blockzation(content_feat, block)\n",
    "    style_feat = blockzation(style_feat, block)\n",
    "    return  unblockzation(adaIN(content_feat, style_feat))\n",
    "\n",
    "def blockzation(feat, block = 16):\n",
    "    H, W = feat.size()[-2:]\n",
    "    assert H % block == 0\n",
    "    assert W % block == 0\n",
    "    size = feat.size()[:-2]\n",
    "    feat = feat.reshape(*size, H // block, block, W // block, block).transpose(-2, -3)\n",
    "    return feat\n",
    "\n",
    "def unblockzation(feat):\n",
    "    size = feat.size()\n",
    "    H = size[-4] * size[-2]\n",
    "    W = size[-3] * size[-1]\n",
    "    size = size[:-4]\n",
    "    return feat.transpose(-2, -3).reshape(*size, H, W)\n",
    "\n",
    "namelist=[\"00000.png\", \"00001.png\", \"00002.png\", \"00003.png\"]\n",
    "another = [\"00001.png\",\"00005.png\",\"00009.png\",\"00013.png\"]\n",
    "anotherl = [\"lowdiv/\", \"energetest/\", \"naive_target_new_difblock/\"]\n",
    "source =[\"flickr_cat_000056.jpg\",\"flickr_cat_000108.jpg\",\"flickr_cat_000136.jpg\", \"flickr_cat_000183.jpg\"]\n",
    "pathlist=[ \"tmp/\", \"adaandlow/\", \"adablock/\", \"adablocklow/\",\"energetest3/\",\"energetest/\",\"energetest6/\"]\n",
    "images =[]\n",
    "img = torchvision.io.read_image(\"ref_imgs/cat/flickr_cat_000108.jpg\")\n",
    "# images.append(img)\n",
    "img = blockzation(img.float(), block=32)\n",
    "img2,_ = calc_mean_std(img)\n",
    "print(img2.shape)\n",
    "img2 = unblockzation(img2 * torch.ones([3,16,16, 16, 16]))\n",
    "torchvision.io.write_png(torch.tensor(img2,dtype=torch.uint8),\"blockmean.png\")\n",
    "for it in anotherl:\n",
    "    for iit in namelist:\n",
    "        images.append(torchvision.io.read_image(it+iit))\n",
    "\n",
    "# img = torch.stack(images, 0)\n",
    "\n",
    "img = vutils.make_grid(images,4,3)\n",
    "torchvision.io.write_png(img,\"grid3.png\")"
   ]
  }
 ],
 "metadata": {
  "kernelspec": {
   "display_name": "Python 3.6.12 ('base')",
   "language": "python",
   "name": "python3"
  },
  "language_info": {
   "codemirror_mode": {
    "name": "ipython",
    "version": 3
   },
   "file_extension": ".py",
   "mimetype": "text/x-python",
   "name": "python",
   "nbconvert_exporter": "python",
   "pygments_lexer": "ipython3",
   "version": "3.6.12"
  },
  "orig_nbformat": 4,
  "vscode": {
   "interpreter": {
    "hash": "2cc526c4c6f900c3afb91187413ff3a978cf4335f7b5198d7cba0db3e5b81ae9"
   }
  }
 },
 "nbformat": 4,
 "nbformat_minor": 2
}
